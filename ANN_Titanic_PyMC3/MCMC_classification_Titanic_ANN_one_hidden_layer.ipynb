{
 "cells": [
  {
   "cell_type": "markdown",
   "metadata": {},
   "source": [
    "#  Predicting passenger survival with MCMC"
   ]
  },
  {
   "cell_type": "markdown",
   "metadata": {},
   "source": [
    "This notebook intends to show the application of probabilisitic programming to the Titanic dataset from Kaggle. We start with the usual loading of libraries"
   ]
  },
  {
   "cell_type": "code",
   "execution_count": 1,
   "metadata": {
    "collapsed": false
   },
   "outputs": [],
   "source": [
    "import os\n",
    "import numpy as np\n",
    "import pandas as pd\n",
    "import matplotlib.pylab as plt\n",
    "import pymc3 as pm\n",
    "import seaborn\n",
    "\n",
    "import theano.tensor as T\n",
    "import theano\n",
    "import sklearn\n",
    "from sklearn import datasets\n",
    "from sklearn.preprocessing import scale\n",
    "from sklearn.cross_validation import train_test_split\n",
    "from sklearn.metrics import log_loss, roc_auc_score, roc_curve\n",
    "\n",
    "%matplotlib inline"
   ]
  },
  {
   "cell_type": "markdown",
   "metadata": {},
   "source": [
    "## I. Preparatory steps: Reading and cleaning"
   ]
  },
  {
   "cell_type": "code",
   "execution_count": 2,
   "metadata": {
    "collapsed": true
   },
   "outputs": [],
   "source": [
    "path_ = \"/Users/rcuevas/Documents/Personal/ProLO-MeetUp/data/\""
   ]
  },
  {
   "cell_type": "code",
   "execution_count": 3,
   "metadata": {
    "collapsed": false
   },
   "outputs": [],
   "source": [
    "dfTrain = pd.read_csv(path_+'train.csv')"
   ]
  },
  {
   "cell_type": "markdown",
   "metadata": {},
   "source": [
    "Check what the data look like:"
   ]
  },
  {
   "cell_type": "code",
   "execution_count": 4,
   "metadata": {
    "collapsed": false,
    "scrolled": true
   },
   "outputs": [
    {
     "data": {
      "text/html": [
       "<div>\n",
       "<table border=\"1\" class=\"dataframe\">\n",
       "  <thead>\n",
       "    <tr style=\"text-align: right;\">\n",
       "      <th></th>\n",
       "      <th>PassengerId</th>\n",
       "      <th>Survived</th>\n",
       "      <th>Pclass</th>\n",
       "      <th>Name</th>\n",
       "      <th>Sex</th>\n",
       "      <th>Age</th>\n",
       "      <th>SibSp</th>\n",
       "      <th>Parch</th>\n",
       "      <th>Ticket</th>\n",
       "      <th>Fare</th>\n",
       "      <th>Cabin</th>\n",
       "      <th>Embarked</th>\n",
       "    </tr>\n",
       "  </thead>\n",
       "  <tbody>\n",
       "    <tr>\n",
       "      <th>0</th>\n",
       "      <td>1</td>\n",
       "      <td>0</td>\n",
       "      <td>3</td>\n",
       "      <td>Braund, Mr. Owen Harris</td>\n",
       "      <td>male</td>\n",
       "      <td>22.0</td>\n",
       "      <td>1</td>\n",
       "      <td>0</td>\n",
       "      <td>A/5 21171</td>\n",
       "      <td>7.2500</td>\n",
       "      <td>NaN</td>\n",
       "      <td>S</td>\n",
       "    </tr>\n",
       "    <tr>\n",
       "      <th>1</th>\n",
       "      <td>2</td>\n",
       "      <td>1</td>\n",
       "      <td>1</td>\n",
       "      <td>Cumings, Mrs. John Bradley (Florence Briggs Th...</td>\n",
       "      <td>female</td>\n",
       "      <td>38.0</td>\n",
       "      <td>1</td>\n",
       "      <td>0</td>\n",
       "      <td>PC 17599</td>\n",
       "      <td>71.2833</td>\n",
       "      <td>C85</td>\n",
       "      <td>C</td>\n",
       "    </tr>\n",
       "    <tr>\n",
       "      <th>2</th>\n",
       "      <td>3</td>\n",
       "      <td>1</td>\n",
       "      <td>3</td>\n",
       "      <td>Heikkinen, Miss. Laina</td>\n",
       "      <td>female</td>\n",
       "      <td>26.0</td>\n",
       "      <td>0</td>\n",
       "      <td>0</td>\n",
       "      <td>STON/O2. 3101282</td>\n",
       "      <td>7.9250</td>\n",
       "      <td>NaN</td>\n",
       "      <td>S</td>\n",
       "    </tr>\n",
       "    <tr>\n",
       "      <th>3</th>\n",
       "      <td>4</td>\n",
       "      <td>1</td>\n",
       "      <td>1</td>\n",
       "      <td>Futrelle, Mrs. Jacques Heath (Lily May Peel)</td>\n",
       "      <td>female</td>\n",
       "      <td>35.0</td>\n",
       "      <td>1</td>\n",
       "      <td>0</td>\n",
       "      <td>113803</td>\n",
       "      <td>53.1000</td>\n",
       "      <td>C123</td>\n",
       "      <td>S</td>\n",
       "    </tr>\n",
       "    <tr>\n",
       "      <th>4</th>\n",
       "      <td>5</td>\n",
       "      <td>0</td>\n",
       "      <td>3</td>\n",
       "      <td>Allen, Mr. William Henry</td>\n",
       "      <td>male</td>\n",
       "      <td>35.0</td>\n",
       "      <td>0</td>\n",
       "      <td>0</td>\n",
       "      <td>373450</td>\n",
       "      <td>8.0500</td>\n",
       "      <td>NaN</td>\n",
       "      <td>S</td>\n",
       "    </tr>\n",
       "  </tbody>\n",
       "</table>\n",
       "</div>"
      ],
      "text/plain": [
       "   PassengerId  Survived  Pclass  \\\n",
       "0            1         0       3   \n",
       "1            2         1       1   \n",
       "2            3         1       3   \n",
       "3            4         1       1   \n",
       "4            5         0       3   \n",
       "\n",
       "                                                Name     Sex   Age  SibSp  \\\n",
       "0                            Braund, Mr. Owen Harris    male  22.0      1   \n",
       "1  Cumings, Mrs. John Bradley (Florence Briggs Th...  female  38.0      1   \n",
       "2                             Heikkinen, Miss. Laina  female  26.0      0   \n",
       "3       Futrelle, Mrs. Jacques Heath (Lily May Peel)  female  35.0      1   \n",
       "4                           Allen, Mr. William Henry    male  35.0      0   \n",
       "\n",
       "   Parch            Ticket     Fare Cabin Embarked  \n",
       "0      0         A/5 21171   7.2500   NaN        S  \n",
       "1      0          PC 17599  71.2833   C85        C  \n",
       "2      0  STON/O2. 3101282   7.9250   NaN        S  \n",
       "3      0            113803  53.1000  C123        S  \n",
       "4      0            373450   8.0500   NaN        S  "
      ]
     },
     "execution_count": 4,
     "metadata": {},
     "output_type": "execute_result"
    }
   ],
   "source": [
    "dfTrain.head()"
   ]
  },
  {
   "cell_type": "markdown",
   "metadata": {},
   "source": [
    "Let's see shape of dataframe, features of dataset as well as number of NaN's for each column"
   ]
  },
  {
   "cell_type": "code",
   "execution_count": 5,
   "metadata": {
    "collapsed": false
   },
   "outputs": [
    {
     "data": {
      "text/plain": [
       "(891, 12)"
      ]
     },
     "execution_count": 5,
     "metadata": {},
     "output_type": "execute_result"
    }
   ],
   "source": [
    "dfTrain.shape"
   ]
  },
  {
   "cell_type": "code",
   "execution_count": 6,
   "metadata": {
    "collapsed": false
   },
   "outputs": [
    {
     "data": {
      "text/plain": [
       "Index([u'PassengerId', u'Survived', u'Pclass', u'Name', u'Sex', u'Age',\n",
       "       u'SibSp', u'Parch', u'Ticket', u'Fare', u'Cabin', u'Embarked'],\n",
       "      dtype='object')"
      ]
     },
     "execution_count": 6,
     "metadata": {},
     "output_type": "execute_result"
    }
   ],
   "source": [
    "dfTrain.columns"
   ]
  },
  {
   "cell_type": "code",
   "execution_count": 7,
   "metadata": {
    "collapsed": false
   },
   "outputs": [
    {
     "data": {
      "text/plain": [
       "PassengerId    891\n",
       "Survived       891\n",
       "Pclass         891\n",
       "Name           891\n",
       "Sex            891\n",
       "Age            714\n",
       "SibSp          891\n",
       "Parch          891\n",
       "Ticket         891\n",
       "Fare           891\n",
       "Cabin          204\n",
       "Embarked       889\n",
       "dtype: int64"
      ]
     },
     "execution_count": 7,
     "metadata": {},
     "output_type": "execute_result"
    }
   ],
   "source": [
    "dfTrain.count()"
   ]
  },
  {
   "cell_type": "code",
   "execution_count": 8,
   "metadata": {
    "collapsed": false
   },
   "outputs": [
    {
     "data": {
      "text/plain": [
       "PassengerId      0\n",
       "Survived         0\n",
       "Pclass           0\n",
       "Name             0\n",
       "Sex              0\n",
       "Age            177\n",
       "SibSp            0\n",
       "Parch            0\n",
       "Ticket           0\n",
       "Fare             0\n",
       "Cabin          687\n",
       "Embarked         2\n",
       "dtype: int64"
      ]
     },
     "execution_count": 8,
     "metadata": {},
     "output_type": "execute_result"
    }
   ],
   "source": [
    "dfTrain.isnull().sum()"
   ]
  },
  {
   "cell_type": "markdown",
   "metadata": {},
   "source": [
    "We have ~20% of NaN. Let's replace the NaN with a negative value, say -1."
   ]
  },
  {
   "cell_type": "code",
   "execution_count": 9,
   "metadata": {
    "collapsed": true
   },
   "outputs": [],
   "source": [
    "dfTrain['Age'] = dfTrain['Age'].fillna(-1) "
   ]
  },
  {
   "cell_type": "code",
   "execution_count": 10,
   "metadata": {
    "collapsed": false
   },
   "outputs": [
    {
     "data": {
      "text/plain": [
       "PassengerId      0\n",
       "Survived         0\n",
       "Pclass           0\n",
       "Name             0\n",
       "Sex              0\n",
       "Age              0\n",
       "SibSp            0\n",
       "Parch            0\n",
       "Ticket           0\n",
       "Fare             0\n",
       "Cabin          687\n",
       "Embarked         2\n",
       "dtype: int64"
      ]
     },
     "execution_count": 10,
     "metadata": {},
     "output_type": "execute_result"
    }
   ],
   "source": [
    "dfTrain.isnull().sum()"
   ]
  },
  {
   "cell_type": "markdown",
   "metadata": {},
   "source": [
    "## II. Visualization"
   ]
  },
  {
   "cell_type": "markdown",
   "metadata": {},
   "source": [
    "Let's select some columns of interest and get correaltion matrix as well as pairplot. For this we first turn some numeric variables into categorical by turning them into strings:"
   ]
  },
  {
   "cell_type": "code",
   "execution_count": 11,
   "metadata": {
    "collapsed": true
   },
   "outputs": [],
   "source": [
    "dfTrain.SiSp = dfTrain.SibSp.astype(str)\n",
    "dfTrain.Parch = dfTrain.Parch.astype(str)\n",
    "dfTrain.Pclass = dfTrain.Pclass.astype(str)"
   ]
  },
  {
   "cell_type": "markdown",
   "metadata": {},
   "source": [
    "and then we grab the columns of interest to make the mentioned plot"
   ]
  },
  {
   "cell_type": "code",
   "execution_count": 12,
   "metadata": {
    "collapsed": false
   },
   "outputs": [
    {
     "data": {
      "text/html": [
       "<div>\n",
       "<table border=\"1\" class=\"dataframe\">\n",
       "  <thead>\n",
       "    <tr style=\"text-align: right;\">\n",
       "      <th></th>\n",
       "      <th>Survived</th>\n",
       "      <th>Pclass</th>\n",
       "      <th>Sex</th>\n",
       "      <th>Age</th>\n",
       "      <th>Fare</th>\n",
       "    </tr>\n",
       "  </thead>\n",
       "  <tbody>\n",
       "    <tr>\n",
       "      <th>0</th>\n",
       "      <td>0</td>\n",
       "      <td>3</td>\n",
       "      <td>male</td>\n",
       "      <td>22.0</td>\n",
       "      <td>7.2500</td>\n",
       "    </tr>\n",
       "    <tr>\n",
       "      <th>1</th>\n",
       "      <td>1</td>\n",
       "      <td>1</td>\n",
       "      <td>female</td>\n",
       "      <td>38.0</td>\n",
       "      <td>71.2833</td>\n",
       "    </tr>\n",
       "    <tr>\n",
       "      <th>2</th>\n",
       "      <td>1</td>\n",
       "      <td>3</td>\n",
       "      <td>female</td>\n",
       "      <td>26.0</td>\n",
       "      <td>7.9250</td>\n",
       "    </tr>\n",
       "    <tr>\n",
       "      <th>3</th>\n",
       "      <td>1</td>\n",
       "      <td>1</td>\n",
       "      <td>female</td>\n",
       "      <td>35.0</td>\n",
       "      <td>53.1000</td>\n",
       "    </tr>\n",
       "    <tr>\n",
       "      <th>4</th>\n",
       "      <td>0</td>\n",
       "      <td>3</td>\n",
       "      <td>male</td>\n",
       "      <td>35.0</td>\n",
       "      <td>8.0500</td>\n",
       "    </tr>\n",
       "  </tbody>\n",
       "</table>\n",
       "</div>"
      ],
      "text/plain": [
       "   Survived Pclass     Sex   Age     Fare\n",
       "0         0      3    male  22.0   7.2500\n",
       "1         1      1  female  38.0  71.2833\n",
       "2         1      3  female  26.0   7.9250\n",
       "3         1      1  female  35.0  53.1000\n",
       "4         0      3    male  35.0   8.0500"
      ]
     },
     "execution_count": 12,
     "metadata": {},
     "output_type": "execute_result"
    }
   ],
   "source": [
    "dfTrain[['Survived','Pclass','Sex','Age','Fare']].head()"
   ]
  },
  {
   "cell_type": "code",
   "execution_count": 13,
   "metadata": {
    "collapsed": true
   },
   "outputs": [],
   "source": [
    "dfTrain_Aux = pd.get_dummies(dfTrain[['Survived','Pclass','Sex','Age','Fare']])"
   ]
  },
  {
   "cell_type": "code",
   "execution_count": 14,
   "metadata": {
    "collapsed": false
   },
   "outputs": [
    {
     "data": {
      "text/html": [
       "<div>\n",
       "<table border=\"1\" class=\"dataframe\">\n",
       "  <thead>\n",
       "    <tr style=\"text-align: right;\">\n",
       "      <th></th>\n",
       "      <th>Survived</th>\n",
       "      <th>Age</th>\n",
       "      <th>Fare</th>\n",
       "      <th>Pclass_1</th>\n",
       "      <th>Pclass_2</th>\n",
       "      <th>Pclass_3</th>\n",
       "      <th>Sex_female</th>\n",
       "      <th>Sex_male</th>\n",
       "    </tr>\n",
       "  </thead>\n",
       "  <tbody>\n",
       "    <tr>\n",
       "      <th>0</th>\n",
       "      <td>0</td>\n",
       "      <td>22.0</td>\n",
       "      <td>7.2500</td>\n",
       "      <td>0.0</td>\n",
       "      <td>0.0</td>\n",
       "      <td>1.0</td>\n",
       "      <td>0.0</td>\n",
       "      <td>1.0</td>\n",
       "    </tr>\n",
       "    <tr>\n",
       "      <th>1</th>\n",
       "      <td>1</td>\n",
       "      <td>38.0</td>\n",
       "      <td>71.2833</td>\n",
       "      <td>1.0</td>\n",
       "      <td>0.0</td>\n",
       "      <td>0.0</td>\n",
       "      <td>1.0</td>\n",
       "      <td>0.0</td>\n",
       "    </tr>\n",
       "    <tr>\n",
       "      <th>2</th>\n",
       "      <td>1</td>\n",
       "      <td>26.0</td>\n",
       "      <td>7.9250</td>\n",
       "      <td>0.0</td>\n",
       "      <td>0.0</td>\n",
       "      <td>1.0</td>\n",
       "      <td>1.0</td>\n",
       "      <td>0.0</td>\n",
       "    </tr>\n",
       "    <tr>\n",
       "      <th>3</th>\n",
       "      <td>1</td>\n",
       "      <td>35.0</td>\n",
       "      <td>53.1000</td>\n",
       "      <td>1.0</td>\n",
       "      <td>0.0</td>\n",
       "      <td>0.0</td>\n",
       "      <td>1.0</td>\n",
       "      <td>0.0</td>\n",
       "    </tr>\n",
       "    <tr>\n",
       "      <th>4</th>\n",
       "      <td>0</td>\n",
       "      <td>35.0</td>\n",
       "      <td>8.0500</td>\n",
       "      <td>0.0</td>\n",
       "      <td>0.0</td>\n",
       "      <td>1.0</td>\n",
       "      <td>0.0</td>\n",
       "      <td>1.0</td>\n",
       "    </tr>\n",
       "  </tbody>\n",
       "</table>\n",
       "</div>"
      ],
      "text/plain": [
       "   Survived   Age     Fare  Pclass_1  Pclass_2  Pclass_3  Sex_female  Sex_male\n",
       "0         0  22.0   7.2500       0.0       0.0       1.0         0.0       1.0\n",
       "1         1  38.0  71.2833       1.0       0.0       0.0         1.0       0.0\n",
       "2         1  26.0   7.9250       0.0       0.0       1.0         1.0       0.0\n",
       "3         1  35.0  53.1000       1.0       0.0       0.0         1.0       0.0\n",
       "4         0  35.0   8.0500       0.0       0.0       1.0         0.0       1.0"
      ]
     },
     "execution_count": 14,
     "metadata": {},
     "output_type": "execute_result"
    }
   ],
   "source": [
    "dfTrain_Aux.head()"
   ]
  },
  {
   "cell_type": "markdown",
   "metadata": {},
   "source": [
    "Is there any *visible* correlation or recognizable distribution? "
   ]
  },
  {
   "cell_type": "code",
   "execution_count": 15,
   "metadata": {
    "collapsed": false
   },
   "outputs": [],
   "source": [
    "#pairPlotTrain = seaborn.pairplot(dfTrain_Aux)"
   ]
  },
  {
   "cell_type": "markdown",
   "metadata": {},
   "source": [
    "We now compute the correlation matrix to plot a heatmap"
   ]
  },
  {
   "cell_type": "code",
   "execution_count": 15,
   "metadata": {
    "collapsed": false
   },
   "outputs": [],
   "source": [
    "corrTrain = dfTrain_Aux.corr()"
   ]
  },
  {
   "cell_type": "code",
   "execution_count": 16,
   "metadata": {
    "collapsed": false
   },
   "outputs": [
    {
     "data": {
      "text/plain": [
       "<matplotlib.axes._subplots.AxesSubplot at 0x10a224b90>"
      ]
     },
     "execution_count": 16,
     "metadata": {},
     "output_type": "execute_result"
    },
    {
     "data": {
      "image/png": "[encoded data removed]",
      "text/plain": [
       "<matplotlib.figure.Figure at 0x118e47fd0>"
      ]
     },
     "metadata": {},
     "output_type": "display_data"
    }
   ],
   "source": [
    "# We consider mask for upper triangle\n",
    "mask = np.zeros_like(corrTrain, dtype=np.bool)\n",
    "mask[np.triu_indices_from(mask)] = True\n",
    "\n",
    "# Set up matplotlib figure\n",
    "f, ax = plt.subplots(figsize=(10, 8))\n",
    "\n",
    "# Generate diverging colormap\n",
    "cmap = seaborn.diverging_palette(220, 10, as_cmap=True)\n",
    "\n",
    "# Draw heatmap with mask and correct aspect ratio\n",
    "seaborn.heatmap(corrTrain, mask=mask, cmap=cmap, vmax=.3,\n",
    "            linewidths=.8, cbar_kws={\"shrink\": .8}, ax=ax)"
   ]
  },
  {
   "cell_type": "markdown",
   "metadata": {},
   "source": [
    "It seems our data are highly correlated"
   ]
  },
  {
   "cell_type": "markdown",
   "metadata": {},
   "source": [
    "## III. Probabilistic Programming Models"
   ]
  },
  {
   "cell_type": "markdown",
   "metadata": {},
   "source": [
    "#### III.A. Bayesian Neural Network"
   ]
  },
  {
   "cell_type": "markdown",
   "metadata": {},
   "source": [
    "Let's try a Bayesian Neural Network with one hidden layer. "
   ]
  },
  {
   "cell_type": "markdown",
   "metadata": {},
   "source": [
    "![](data/ANN_OneLayer.jpg)"
   ]
  },
  {
   "cell_type": "markdown",
   "metadata": {},
   "source": [
    "We choose the features listed before and extract target."
   ]
  },
  {
   "cell_type": "code",
   "execution_count": 17,
   "metadata": {
    "collapsed": true
   },
   "outputs": [],
   "source": [
    "list_features = ['Pclass','Sex','Age','Fare','SibSp','Parch']"
   ]
  },
  {
   "cell_type": "markdown",
   "metadata": {},
   "source": [
    "We convert categorical variable into dummy/indicator variables with *get_dummies*"
   ]
  },
  {
   "cell_type": "code",
   "execution_count": 18,
   "metadata": {
    "collapsed": true
   },
   "outputs": [],
   "source": [
    "XTrain = pd.get_dummies(dfTrain[list_features]).values\n",
    "yTrain = dfTrain.Survived.values"
   ]
  },
  {
   "cell_type": "markdown",
   "metadata": {},
   "source": [
    "We try a typical split into test and training sets"
   ]
  },
  {
   "cell_type": "code",
   "execution_count": 19,
   "metadata": {
    "collapsed": true
   },
   "outputs": [],
   "source": [
    "X_train, X_test, y_train, y_test = train_test_split(XTrain, yTrain, train_size=0.7,random_state=2016)"
   ]
  },
  {
   "cell_type": "code",
   "execution_count": 20,
   "metadata": {
    "collapsed": false
   },
   "outputs": [
    {
     "name": "stdout",
     "output_type": "stream",
     "text": [
      "(623, 15)\n",
      "(268, 15)\n"
     ]
    }
   ],
   "source": [
    "print X_train.shape\n",
    "print X_test.shape"
   ]
  },
  {
   "cell_type": "markdown",
   "metadata": {},
   "source": [
    "Mean and std for chosen feature of training set"
   ]
  },
  {
   "cell_type": "code",
   "execution_count": 21,
   "metadata": {
    "collapsed": false
   },
   "outputs": [
    {
     "name": "stdout",
     "output_type": "stream",
     "text": [
      "===================================\n",
      "Mean array\n",
      "[  2.33717175e+01   3.16978921e+01   5.71428571e-01   2.47191011e-01\n",
      "   1.97431782e-01   5.55377207e-01   3.45104334e-01   6.54895666e-01\n",
      "   7.60834671e-01   1.33226324e-01   8.82825040e-02   8.02568218e-03\n",
      "   1.60513644e-03   6.42054575e-03   1.60513644e-03]\n",
      "===================================\n",
      "Std array\n",
      "[  1.75997976e+01   4.47758640e+01   1.21161542e+00   4.31378738e-01\n",
      "   3.98060891e-01   4.96923903e-01   4.75402285e-01   4.75402285e-01\n",
      "   4.26573879e-01   3.39819174e-01   2.83705311e-01   8.92259526e-02\n",
      "   4.00319869e-02   7.98706601e-02   4.00319869e-02]\n"
     ]
    }
   ],
   "source": [
    "mean_array = np.mean(X_train,axis=0)\n",
    "std_array = np.std(X_train,axis=0)\n",
    "print \"===================================\"\n",
    "print \"Mean array\"\n",
    "print mean_array\n",
    "print \"===================================\"\n",
    "print \"Std array\"\n",
    "print std_array"
   ]
  },
  {
   "cell_type": "markdown",
   "metadata": {},
   "source": [
    "We scale training set..."
   ]
  },
  {
   "cell_type": "code",
   "execution_count": 22,
   "metadata": {
    "collapsed": false
   },
   "outputs": [],
   "source": [
    "XTrainScaled = scale(X_train)\n",
    "#XTrainScale = X_train"
   ]
  },
  {
   "cell_type": "code",
   "execution_count": 23,
   "metadata": {
    "collapsed": false
   },
   "outputs": [
    {
     "data": {
      "text/plain": [
       "array([[-0.07793939, -0.53428097, -0.47162537, ..., -0.04009635,\n",
       "        -0.08038679, -0.04009635],\n",
       "       [ 0.03569828, -0.35393828,  0.35371903, ..., -0.04009635,\n",
       "        -0.08038679, -0.04009635],\n",
       "       [-0.87340308, -0.05746159,  2.82975223, ..., -0.04009635,\n",
       "        -0.08038679, -0.04009635],\n",
       "       ..., \n",
       "       [-0.4188524 ,  0.17843559,  2.82975223, ..., -0.04009635,\n",
       "        -0.08038679, -0.04009635],\n",
       "       [-0.30521473, -0.38511132, -0.47162537, ..., -0.04009635,\n",
       "        -0.08038679, -0.04009635],\n",
       "       [-0.47567124, -0.54656438, -0.47162537, ..., -0.04009635,\n",
       "        -0.08038679, -0.04009635]])"
      ]
     },
     "execution_count": 23,
     "metadata": {},
     "output_type": "execute_result"
    }
   ],
   "source": [
    "XTrainScaled"
   ]
  },
  {
   "cell_type": "markdown",
   "metadata": {},
   "source": [
    "We add a bias (intercept) for our model"
   ]
  },
  {
   "cell_type": "code",
   "execution_count": 24,
   "metadata": {
    "collapsed": false
   },
   "outputs": [],
   "source": [
    "XTrainScaled_Bias = np.ones((XTrainScaled.shape[0],XTrainScaled.shape[1]+1))\n",
    "XTrainScaled_Bias[:,1:] = XTrainScaled"
   ]
  },
  {
   "cell_type": "code",
   "execution_count": 25,
   "metadata": {
    "collapsed": false
   },
   "outputs": [
    {
     "data": {
      "text/plain": [
       "array([[ 1.        , -0.07793939, -0.53428097, ..., -0.04009635,\n",
       "        -0.08038679, -0.04009635],\n",
       "       [ 1.        ,  0.03569828, -0.35393828, ..., -0.04009635,\n",
       "        -0.08038679, -0.04009635],\n",
       "       [ 1.        , -0.87340308, -0.05746159, ..., -0.04009635,\n",
       "        -0.08038679, -0.04009635],\n",
       "       ..., \n",
       "       [ 1.        , -0.4188524 ,  0.17843559, ..., -0.04009635,\n",
       "        -0.08038679, -0.04009635],\n",
       "       [ 1.        , -0.30521473, -0.38511132, ..., -0.04009635,\n",
       "        -0.08038679, -0.04009635],\n",
       "       [ 1.        , -0.47567124, -0.54656438, ..., -0.04009635,\n",
       "        -0.08038679, -0.04009635]])"
      ]
     },
     "execution_count": 25,
     "metadata": {},
     "output_type": "execute_result"
    }
   ],
   "source": [
    "XTrainScaled_Bias"
   ]
  },
  {
   "cell_type": "markdown",
   "metadata": {},
   "source": [
    "Turn inputs and outputs into shared variables so that we can change them later"
   ]
  },
  {
   "cell_type": "code",
   "execution_count": 26,
   "metadata": {
    "collapsed": false
   },
   "outputs": [],
   "source": [
    "ann_input = theano.shared(XTrainScaled_Bias)\n",
    "ann_output = theano.shared(y_train)\n",
    "n_Neuron = 5 # number of units for hidden neural network"
   ]
  },
  {
   "cell_type": "code",
   "execution_count": 27,
   "metadata": {
    "collapsed": false
   },
   "outputs": [],
   "source": [
    "# Initialize random weights.\n",
    "init_1 = np.random.randn(XTrainScaled_Bias.shape[1], n_Neuron)\n",
    "# The following line is in case we wish to add a second hidden layer\n",
    "#init_2 = np.random.randn(n_Neuron, n_Neuron)\n",
    "init_out = np.random.randn(n_Neuron)\n",
    "\n",
    "with pm.Model() as neural_network_01:\n",
    "    # Weights from input to hidden layer with Normal distribution\n",
    "    weights_in_1 = pm.Normal('w_in_1', 0, sd=1, \n",
    "                             shape=(XTrainScaled_Bias.shape[1], n_Neuron), \n",
    "                             testval=init_1)\n",
    "    \n",
    "    # The following lines of code  are to add weights from first hidden layer to second hidden layer\n",
    "    # in case we wish to add so\n",
    "    #weights_1_2 = pm.Normal('w_1_2', 0, sd=1, \n",
    "    #                        shape=(n_Neuron, n_Neuron), \n",
    "    #                        testval=init_2)\n",
    "    \n",
    "    # Weights from hidden layer to output with Normal distribution\n",
    "    weights_2_out = pm.Normal('w_2_out', 0, sd=1, \n",
    "                              shape=(n_Neuron,), \n",
    "                              testval=init_out)\n",
    "    \n",
    "    # Let's build neural-network with tanh activation functions...\n",
    "    act_1 = T.tanh(T.dot(ann_input, weights_in_1))\n",
    "    # Once again, the following line is in case we wish to add a second hidden layer\n",
    "    #act_2 = T.tanh(T.dot(act_1, weights_1_2))\n",
    "    \n",
    "    # We could also try sigmoid activation function but let's try that later\n",
    "    #act_1 = T.nnet.sigmoid(T.dot(ann_input, weights_in_1))\n",
    "    #act_2 = T.nnet.sigmoid(T.dot(act_1, weights_1_2))\n",
    "    \n",
    "    \n",
    "    act_out = T.nnet.sigmoid(T.dot(act_1, weights_2_out))\n",
    "    \n",
    "    \n",
    "    # Set output with a Bernoulli distribution\n",
    "    out = pm.Bernoulli('out', act_out,observed=ann_output)"
   ]
  },
  {
   "cell_type": "markdown",
   "metadata": {},
   "source": [
    "Run model itself"
   ]
  },
  {
   "cell_type": "code",
   "execution_count": 30,
   "metadata": {
    "collapsed": false
   },
   "outputs": [
    {
     "name": "stdout",
     "output_type": "stream",
     "text": [
      " [-----------------100%-----------------] 500000 of 500000 complete in 356.7 sec"
     ]
    }
   ],
   "source": [
    "with neural_network_01:    \n",
    "    step = pm.Metropolis()\n",
    "    \n",
    "    #step = pm.NUTS()\n",
    "    start = pm.find_MAP()\n",
    "    \n",
    "    #trace_ANN_01 = pm.sample(2000000, step=step)#[10000:]\n",
    "    trace_ANN_01 = pm.sample(500000, step=step, start=start,  progressbar=True)"
   ]
  },
  {
   "cell_type": "code",
   "execution_count": 31,
   "metadata": {
    "collapsed": false
   },
   "outputs": [
    {
     "data": {
      "image/png": "[encoded data removed]",
      "text/plain": [
       "<matplotlib.figure.Figure at 0x120183b90>"
      ]
     },
     "metadata": {},
     "output_type": "display_data"
    }
   ],
   "source": [
    "params_ANN_01 = trace_ANN_01[\"w_2_out\"][-1000:]\n",
    "plt.figure(figsize=(8,25))\n",
    "nb_plots = params_ANN_01.shape[1]\n",
    "bins=15\n",
    "for i in range(nb_plots):\n",
    "    plt.subplot(nb_plots, 2, i*2+2) \n",
    "    plt.plot(range(params_ANN_01.shape[0]), params_ANN_01[:,i])\n",
    "    plt.subplot(nb_plots, 2, i*2+1)\n",
    "    plt.hist(params_ANN_01[:,i], bins=bins)\n",
    "    plt.ylabel(dfTrain.columns[i])"
   ]
  },
  {
   "cell_type": "markdown",
   "metadata": {},
   "source": [
    "Let's normalize the test set"
   ]
  },
  {
   "cell_type": "code",
   "execution_count": 32,
   "metadata": {
    "collapsed": false
   },
   "outputs": [],
   "source": [
    "X_test_Norm = np.zeros(X_test.shape)\n",
    "for k in range(X_test_Norm.shape[1]):\n",
    "    if ((mean_array[k] != 0) & (std_array[k] !=0)):\n",
    "        X_test_Norm[:,k] =  (X_test[:,k] - mean_array[k])/std_array[k]"
   ]
  },
  {
   "cell_type": "code",
   "execution_count": 33,
   "metadata": {
    "collapsed": false
   },
   "outputs": [
    {
     "data": {
      "text/plain": [
       "array([ 0.04324374,  0.03759417, -0.13286461, -0.03673739,  0.07581794,\n",
       "       -0.02884231,  0.05111177, -0.05111177,  0.00084243, -0.00773738,\n",
       "        0.01762772, -0.08994785,  0.23953079, -0.03366947, -0.04009635])"
      ]
     },
     "execution_count": 33,
     "metadata": {},
     "output_type": "execute_result"
    }
   ],
   "source": [
    "np.mean(X_test_Norm,axis = 0)"
   ]
  },
  {
   "cell_type": "code",
   "execution_count": 34,
   "metadata": {
    "collapsed": false
   },
   "outputs": [
    {
     "data": {
      "text/plain": [
       "array([  1.04725988e+00,   1.32844998e+00,   6.43372788e-01,\n",
       "         9.77543125e-01,   1.05333323e+00,   1.00279434e+00,\n",
       "         1.01523105e+00,   1.01523105e+00,   9.99484396e-01,\n",
       "         9.91583541e-01,   1.02511097e+00,   3.33066907e-16,\n",
       "         2.62809842e+00,   7.63367319e-01,   1.04083409e-16])"
      ]
     },
     "execution_count": 34,
     "metadata": {},
     "output_type": "execute_result"
    }
   ],
   "source": [
    "np.std(X_test_Norm,axis = 0)"
   ]
  },
  {
   "cell_type": "markdown",
   "metadata": {},
   "source": [
    "We add bias for test set"
   ]
  },
  {
   "cell_type": "code",
   "execution_count": 35,
   "metadata": {
    "collapsed": false
   },
   "outputs": [],
   "source": [
    "# Intercept for test set\n",
    "XTestScaled_Bias = np.ones((X_test_Norm.shape[0],X_test_Norm.shape[1]+1))\n",
    "XTestScaled_Bias[:,1:] = X_test_Norm"
   ]
  },
  {
   "cell_type": "code",
   "execution_count": 36,
   "metadata": {
    "collapsed": false
   },
   "outputs": [
    {
     "data": {
      "text/plain": [
       "array([[ 1.        ,  0.77434314, -0.49380157, ..., -0.04009635,\n",
       "        -0.08038679, -0.04009635],\n",
       "       [ 1.        , -0.36203357, -0.38501975, ..., -0.04009635,\n",
       "        -0.08038679, -0.04009635],\n",
       "       [ 1.        ,  0.37661129, -0.49575575, ..., -0.04009635,\n",
       "        -0.08038679, -0.04009635],\n",
       "       ..., \n",
       "       [ 1.        ,  0.09251712, -0.53093095, ..., -0.04009635,\n",
       "        -0.08038679, -0.04009635],\n",
       "       [ 1.        ,  0.83116197,  0.88407915, ..., -0.04009635,\n",
       "        -0.08038679, -0.04009635],\n",
       "       [ 1.        ,  0.14933595, -0.34835491, ..., -0.04009635,\n",
       "        -0.08038679, -0.04009635]])"
      ]
     },
     "execution_count": 36,
     "metadata": {},
     "output_type": "execute_result"
    }
   ],
   "source": [
    "XTestScaled_Bias"
   ]
  },
  {
   "cell_type": "code",
   "execution_count": 37,
   "metadata": {
    "collapsed": false
   },
   "outputs": [],
   "source": [
    "# Replace shared variables with testing set\n",
    "ann_input.set_value(XTestScaled_Bias)"
   ]
  },
  {
   "cell_type": "code",
   "execution_count": 38,
   "metadata": {
    "collapsed": false
   },
   "outputs": [],
   "source": [
    "# Create posterior predictive samples\n",
    "ppc = pm.sample_ppc(trace_ANN_01, model=neural_network_01, samples=500)\n",
    "# We set threshold to be 0.5\n",
    "pred = ppc['out'].mean(axis=0) > 0.5\n",
    "pred = 1*pred"
   ]
  },
  {
   "cell_type": "markdown",
   "metadata": {},
   "source": [
    "Let's see some meassures of accuracy. We do the usual mean of absolute value of differences but we also compute ROC-AUC"
   ]
  },
  {
   "cell_type": "code",
   "execution_count": 39,
   "metadata": {
    "collapsed": false
   },
   "outputs": [
    {
     "name": "stdout",
     "output_type": "stream",
     "text": [
      "Accuracy = 80.223880597%\n",
      "ROC-AUC = 0.777130852341\n"
     ]
    }
   ],
   "source": [
    "print('Accuracy = {}%'.format((y_test == pred).mean() * 100))\n",
    "print('ROC-AUC = {}'.format(roc_auc_score(y_test,pred)))"
   ]
  },
  {
   "cell_type": "markdown",
   "metadata": {},
   "source": [
    "#### II.B. Predictions for Kaggle"
   ]
  },
  {
   "cell_type": "code",
   "execution_count": 40,
   "metadata": {
    "collapsed": false
   },
   "outputs": [],
   "source": [
    "dfTest = pd.read_csv(path_+'test.csv')\n",
    "dfTrain = pd.read_csv(path_+'train.csv')"
   ]
  },
  {
   "cell_type": "code",
   "execution_count": 41,
   "metadata": {
    "collapsed": false
   },
   "outputs": [
    {
     "data": {
      "text/plain": [
       "['Pclass', 'Sex', 'Age', 'Fare', 'SibSp', 'Parch']"
      ]
     },
     "execution_count": 41,
     "metadata": {},
     "output_type": "execute_result"
    }
   ],
   "source": [
    "list_features"
   ]
  },
  {
   "cell_type": "code",
   "execution_count": 42,
   "metadata": {
    "collapsed": false
   },
   "outputs": [],
   "source": [
    "dfTrain['Age'] = dfTrain['Age'].fillna(-2)\n",
    "dfTest['Age'] = dfTest['Age'].fillna(-2)\n",
    "dfTest['Fare'] = dfTest['Fare'].fillna(-2)"
   ]
  },
  {
   "cell_type": "code",
   "execution_count": 43,
   "metadata": {
    "collapsed": true
   },
   "outputs": [],
   "source": [
    "yTrain = dfTrain.Survived.values"
   ]
  },
  {
   "cell_type": "code",
   "execution_count": 44,
   "metadata": {
    "collapsed": true
   },
   "outputs": [],
   "source": [
    "dfTest.SiSp = dfTest.SibSp.astype(str)\n",
    "dfTest.Parch = dfTest.Parch.astype(str)\n",
    "dfTest.Pclass = dfTest.Pclass.astype(str)\n",
    "\n",
    "dfTrain.SiSp = dfTrain.SibSp.astype(str)\n",
    "dfTrain.Parch = dfTrain.Parch.astype(str)\n",
    "dfTrain.Pclass = dfTrain.Pclass.astype(str)"
   ]
  },
  {
   "cell_type": "code",
   "execution_count": 45,
   "metadata": {
    "collapsed": false
   },
   "outputs": [],
   "source": [
    "dfTrain = pd.get_dummies(dfTrain[list_features])"
   ]
  },
  {
   "cell_type": "code",
   "execution_count": 46,
   "metadata": {
    "collapsed": false
   },
   "outputs": [],
   "source": [
    "dfTest = pd.get_dummies(dfTest[list_features])"
   ]
  },
  {
   "cell_type": "code",
   "execution_count": 47,
   "metadata": {
    "collapsed": true
   },
   "outputs": [],
   "source": [
    "dfTest = dfTest[dfTrain.columns.values]"
   ]
  },
  {
   "cell_type": "code",
   "execution_count": 48,
   "metadata": {
    "collapsed": false
   },
   "outputs": [],
   "source": [
    "XTrain = dfTrain.values\n",
    "XTrainScale = scale(XTrain)"
   ]
  },
  {
   "cell_type": "code",
   "execution_count": 49,
   "metadata": {
    "collapsed": false
   },
   "outputs": [],
   "source": [
    "mean_array_Train = np.mean(XTrain,axis=0)\n",
    "std_array_Train = np.std(XTrain,axis=0)"
   ]
  },
  {
   "cell_type": "code",
   "execution_count": 50,
   "metadata": {
    "collapsed": false
   },
   "outputs": [],
   "source": [
    "XTest = dfTest.values\n",
    "XTestScale = np.zeros(XTest.shape)\n",
    "#XTestScale = XTest\n",
    "for k in range(XTest.shape[1]):\n",
    "    XTestScale[:,k] = (XTest[:,k] - mean_array_Train[k])/std_array_Train[k]"
   ]
  },
  {
   "cell_type": "code",
   "execution_count": 51,
   "metadata": {
    "collapsed": false
   },
   "outputs": [],
   "source": [
    "# Intercept for test set\n",
    "XTrainScale_Bias = np.ones((XTrainScale.shape[0],XTrainScale.shape[1]+1))\n",
    "XTrainScale_Bias[:,1:] = XTrainScale"
   ]
  },
  {
   "cell_type": "code",
   "execution_count": 52,
   "metadata": {
    "collapsed": false
   },
   "outputs": [],
   "source": [
    "# Turn inputs and outputs into shared variables so that we can change them later\n",
    "ann_input = theano.shared(XTrainScale_Bias)\n",
    "ann_output = theano.shared(yTrain)\n",
    "n_Neuron = 5\n",
    "\n",
    "# Initialize random weights.\n",
    "init_1 = np.random.randn(XTrainScale_Bias.shape[1], n_Neuron)\n",
    "#init_2 = np.random.randn(n_Neuron, n_Neuron)\n",
    "init_out = np.random.randn(n_Neuron)\n",
    "\n",
    "with pm.Model() as neural_network_2:\n",
    "    # Weights from input to first layer\n",
    "    weights_in_1 = pm.Normal('w_in_1', 0, sd=1, \n",
    "                             shape=(XTrainScale_Bias.shape[1], n_Neuron), \n",
    "                             testval=init_1)\n",
    "    \n",
    "    # Weights from first to second layer\n",
    "    #weights_1_2 = pm.Normal('w_1_2', 0, sd=1, \n",
    "    #                        shape=(n_Neuron, n_Neuron), \n",
    "    #                        testval=init_2)\n",
    "    \n",
    "    # Weights from second layer to output\n",
    "    weights_2_out = pm.Normal('w_2_out', 0, sd=1, \n",
    "                              shape=(n_Neuron,), \n",
    "                              testval=init_out)\n",
    "    \n",
    "    # Build neural-network\n",
    "    # Same as before, we choose tanh as activation functions...\n",
    "    act_1 = T.tanh(T.dot(ann_input, weights_in_1))\n",
    "    #act_2 = T.tanh(T.dot(act_1, weights_1_2))\n",
    "    #act_1 = T.nnet.sigmoid(T.dot(ann_input, weights_in_1))\n",
    "    #act_2 = T.nnet.sigmoid(T.dot(act_1, weights_1_2))\n",
    "    act_out = T.nnet.sigmoid(T.dot(act_1, weights_2_out))\n",
    "    \n",
    "    out = pm.Bernoulli('out',act_out,observed=ann_output)"
   ]
  },
  {
   "cell_type": "code",
   "execution_count": 53,
   "metadata": {
    "collapsed": false,
    "scrolled": true
   },
   "outputs": [
    {
     "name": "stdout",
     "output_type": "stream",
     "text": [
      " [-----------------100%-----------------] 50000 of 50000 complete in 42.7 sec"
     ]
    }
   ],
   "source": [
    "with neural_network_2:\n",
    "    step = pm.Metropolis()\n",
    "    trace_ANN_02 = pm.sample(50000, step=step)[10000:]"
   ]
  },
  {
   "cell_type": "markdown",
   "metadata": {},
   "source": [
    "Let's plot some of the parameters"
   ]
  },
  {
   "cell_type": "code",
   "execution_count": 54,
   "metadata": {
    "collapsed": false
   },
   "outputs": [],
   "source": [
    "# Intercept for test set\n",
    "XTestScale_Bias = np.ones((XTestScale.shape[0],XTestScale.shape[1]+1))\n",
    "XTestScale_Bias[:,1:] = XTestScale"
   ]
  },
  {
   "cell_type": "code",
   "execution_count": 55,
   "metadata": {
    "collapsed": true
   },
   "outputs": [],
   "source": [
    "# Replace shared variables with testing set\n",
    "ann_input.set_value(XTestScale_Bias)"
   ]
  },
  {
   "cell_type": "code",
   "execution_count": 56,
   "metadata": {
    "collapsed": false
   },
   "outputs": [],
   "source": [
    "# Create posterior predictive samples\n",
    "ppc = pm.sample_ppc(trace_ANN_02, model=neural_network_2, samples=500)\n",
    "\n",
    "pred = ppc['out'].mean(axis=0) > 0.5\n",
    "pred = 1*pred"
   ]
  },
  {
   "cell_type": "code",
   "execution_count": 57,
   "metadata": {
    "collapsed": false
   },
   "outputs": [],
   "source": [
    "dfTest['PassengerId']  = pd.read_csv(path_+'test.csv').PassengerId"
   ]
  },
  {
   "cell_type": "code",
   "execution_count": 58,
   "metadata": {
    "collapsed": false
   },
   "outputs": [
    {
     "data": {
      "text/html": [
       "<div>\n",
       "<table border=\"1\" class=\"dataframe\">\n",
       "  <thead>\n",
       "    <tr style=\"text-align: right;\">\n",
       "      <th></th>\n",
       "      <th>Age</th>\n",
       "      <th>Fare</th>\n",
       "      <th>SibSp</th>\n",
       "      <th>Pclass_1</th>\n",
       "      <th>Pclass_2</th>\n",
       "      <th>Pclass_3</th>\n",
       "      <th>Sex_female</th>\n",
       "      <th>Sex_male</th>\n",
       "      <th>Parch_0</th>\n",
       "      <th>Parch_1</th>\n",
       "      <th>Parch_2</th>\n",
       "      <th>Parch_3</th>\n",
       "      <th>Parch_4</th>\n",
       "      <th>Parch_5</th>\n",
       "      <th>Parch_6</th>\n",
       "      <th>PassengerId</th>\n",
       "    </tr>\n",
       "  </thead>\n",
       "  <tbody>\n",
       "    <tr>\n",
       "      <th>0</th>\n",
       "      <td>34.5</td>\n",
       "      <td>7.8292</td>\n",
       "      <td>0</td>\n",
       "      <td>0.0</td>\n",
       "      <td>0.0</td>\n",
       "      <td>1.0</td>\n",
       "      <td>0.0</td>\n",
       "      <td>1.0</td>\n",
       "      <td>1.0</td>\n",
       "      <td>0.0</td>\n",
       "      <td>0.0</td>\n",
       "      <td>0.0</td>\n",
       "      <td>0.0</td>\n",
       "      <td>0.0</td>\n",
       "      <td>0.0</td>\n",
       "      <td>892</td>\n",
       "    </tr>\n",
       "    <tr>\n",
       "      <th>1</th>\n",
       "      <td>47.0</td>\n",
       "      <td>7.0000</td>\n",
       "      <td>1</td>\n",
       "      <td>0.0</td>\n",
       "      <td>0.0</td>\n",
       "      <td>1.0</td>\n",
       "      <td>1.0</td>\n",
       "      <td>0.0</td>\n",
       "      <td>1.0</td>\n",
       "      <td>0.0</td>\n",
       "      <td>0.0</td>\n",
       "      <td>0.0</td>\n",
       "      <td>0.0</td>\n",
       "      <td>0.0</td>\n",
       "      <td>0.0</td>\n",
       "      <td>893</td>\n",
       "    </tr>\n",
       "    <tr>\n",
       "      <th>2</th>\n",
       "      <td>62.0</td>\n",
       "      <td>9.6875</td>\n",
       "      <td>0</td>\n",
       "      <td>0.0</td>\n",
       "      <td>1.0</td>\n",
       "      <td>0.0</td>\n",
       "      <td>0.0</td>\n",
       "      <td>1.0</td>\n",
       "      <td>1.0</td>\n",
       "      <td>0.0</td>\n",
       "      <td>0.0</td>\n",
       "      <td>0.0</td>\n",
       "      <td>0.0</td>\n",
       "      <td>0.0</td>\n",
       "      <td>0.0</td>\n",
       "      <td>894</td>\n",
       "    </tr>\n",
       "    <tr>\n",
       "      <th>3</th>\n",
       "      <td>27.0</td>\n",
       "      <td>8.6625</td>\n",
       "      <td>0</td>\n",
       "      <td>0.0</td>\n",
       "      <td>0.0</td>\n",
       "      <td>1.0</td>\n",
       "      <td>0.0</td>\n",
       "      <td>1.0</td>\n",
       "      <td>1.0</td>\n",
       "      <td>0.0</td>\n",
       "      <td>0.0</td>\n",
       "      <td>0.0</td>\n",
       "      <td>0.0</td>\n",
       "      <td>0.0</td>\n",
       "      <td>0.0</td>\n",
       "      <td>895</td>\n",
       "    </tr>\n",
       "    <tr>\n",
       "      <th>4</th>\n",
       "      <td>22.0</td>\n",
       "      <td>12.2875</td>\n",
       "      <td>1</td>\n",
       "      <td>0.0</td>\n",
       "      <td>0.0</td>\n",
       "      <td>1.0</td>\n",
       "      <td>1.0</td>\n",
       "      <td>0.0</td>\n",
       "      <td>0.0</td>\n",
       "      <td>1.0</td>\n",
       "      <td>0.0</td>\n",
       "      <td>0.0</td>\n",
       "      <td>0.0</td>\n",
       "      <td>0.0</td>\n",
       "      <td>0.0</td>\n",
       "      <td>896</td>\n",
       "    </tr>\n",
       "  </tbody>\n",
       "</table>\n",
       "</div>"
      ],
      "text/plain": [
       "    Age     Fare  SibSp  Pclass_1  Pclass_2  Pclass_3  Sex_female  Sex_male  \\\n",
       "0  34.5   7.8292      0       0.0       0.0       1.0         0.0       1.0   \n",
       "1  47.0   7.0000      1       0.0       0.0       1.0         1.0       0.0   \n",
       "2  62.0   9.6875      0       0.0       1.0       0.0         0.0       1.0   \n",
       "3  27.0   8.6625      0       0.0       0.0       1.0         0.0       1.0   \n",
       "4  22.0  12.2875      1       0.0       0.0       1.0         1.0       0.0   \n",
       "\n",
       "   Parch_0  Parch_1  Parch_2  Parch_3  Parch_4  Parch_5  Parch_6  PassengerId  \n",
       "0      1.0      0.0      0.0      0.0      0.0      0.0      0.0          892  \n",
       "1      1.0      0.0      0.0      0.0      0.0      0.0      0.0          893  \n",
       "2      1.0      0.0      0.0      0.0      0.0      0.0      0.0          894  \n",
       "3      1.0      0.0      0.0      0.0      0.0      0.0      0.0          895  \n",
       "4      0.0      1.0      0.0      0.0      0.0      0.0      0.0          896  "
      ]
     },
     "execution_count": 58,
     "metadata": {},
     "output_type": "execute_result"
    }
   ],
   "source": [
    "dfTest.head()"
   ]
  },
  {
   "cell_type": "code",
   "execution_count": 59,
   "metadata": {
    "collapsed": false
   },
   "outputs": [
    {
     "name": "stdout",
     "output_type": "stream",
     "text": [
      "PassengerId,Survived\r\n",
      "892,0\r\n",
      "893,1\r\n",
      "894,0\r\n",
      "895,0\r\n",
      "896,1\r\n",
      "897,0\r\n",
      "898,1\r\n",
      "899,0\r\n",
      "900,1\r\n"
     ]
    }
   ],
   "source": [
    "predictions_out = pd.Series(pred, index=dfTest.PassengerId, name=\"Survived\")\n",
    "predictions_out.to_csv(path_+\"predictions_ann_tanh_scaled_bias.csv\", header=True)\n",
    "!head logistic_predictions.csv"
   ]
  },
  {
   "cell_type": "markdown",
   "metadata": {},
   "source": [
    "This subission in Kaggle scored 0.78669\n",
    "Your submission scored 0.78469 (with bias unit)"
   ]
  },
  {
   "cell_type": "markdown",
   "metadata": {},
   "source": [
    "#### II.C. Variational inference with ADVI"
   ]
  },
  {
   "cell_type": "code",
   "execution_count": 64,
   "metadata": {
    "collapsed": false
   },
   "outputs": [],
   "source": [
    "# Restore to original data\n",
    "ann_input.set_value(XTrainScale_Bias)\n",
    "ann_output.set_value(yTrain)"
   ]
  },
  {
   "cell_type": "markdown",
   "metadata": {},
   "source": [
    "Let's try to run ADVI (automatic differntiation variational inference) and get ELBO (evidence lower bound)"
   ]
  },
  {
   "cell_type": "code",
   "execution_count": 65,
   "metadata": {
    "collapsed": false
   },
   "outputs": [
    {
     "name": "stdout",
     "output_type": "stream",
     "text": [
      "Iteration 0 [0%]: ELBO = -1006.95\n",
      "Iteration 2000 [10%]: Average ELBO = -706.9\n",
      "Iteration 4000 [20%]: Average ELBO = -498.58\n",
      "Iteration 6000 [30%]: Average ELBO = -452.17\n",
      "Iteration 8000 [40%]: Average ELBO = -437.83\n",
      "Iteration 10000 [50%]: Average ELBO = -433.9\n",
      "Iteration 12000 [60%]: Average ELBO = -433.45\n",
      "Iteration 14000 [70%]: Average ELBO = -433.38\n",
      "Iteration 16000 [80%]: Average ELBO = -433.36\n",
      "Iteration 18000 [90%]: Average ELBO = -433.4\n",
      "Finished [100%]: Average ELBO = -433.42\n"
     ]
    }
   ],
   "source": [
    "with neural_network_2:\n",
    "    means, sds, elbos = pm.variational.advi(n=20000, accurate_elbo=True)"
   ]
  },
  {
   "cell_type": "code",
   "execution_count": 66,
   "metadata": {
    "collapsed": false
   },
   "outputs": [
    {
     "data": {
      "text/plain": [
       "<matplotlib.text.Text at 0x13bbb2c90>"
      ]
     },
     "execution_count": 66,
     "metadata": {},
     "output_type": "execute_result"
    },
    {
     "data": {
      "image/png": "[encoded data removed]",
      "text/plain": [
       "<matplotlib.figure.Figure at 0x139eb7d90>"
      ]
     },
     "metadata": {},
     "output_type": "display_data"
    }
   ],
   "source": [
    "plt.plot(elbos)\n",
    "plt.ylabel('ELBO')\n",
    "plt.xlabel('iteration')"
   ]
  },
  {
   "cell_type": "code",
   "execution_count": null,
   "metadata": {
    "collapsed": false
   },
   "outputs": [],
   "source": [
    "# The following cells are to explore this problem further...."
   ]
  },
  {
   "cell_type": "code",
   "execution_count": null,
   "metadata": {
    "collapsed": true
   },
   "outputs": [],
   "source": [
    "params_ANN_01 = trace_ANN_01[\"w_2_out\"]\n",
    "plt.figure(figsize=(8,25))\n",
    "nb_plots = params_ANN_01.shape[1]\n",
    "bins=15\n",
    "for i in range(nb_plots):\n",
    "    plt.subplot(nb_plots, 2, i*2+2) \n",
    "    plt.plot(range(params_ANN_01.shape[0]), params_ANN_01[:,i])\n",
    "    plt.subplot(nb_plots, 2, i*2+1)\n",
    "    plt.hist(params_ANN_01[:,i], bins=bins)\n",
    "    plt.ylabel(dfTrain.columns[i])"
   ]
  },
  {
   "cell_type": "code",
   "execution_count": null,
   "metadata": {
    "collapsed": true
   },
   "outputs": [],
   "source": [
    "params_ANN_02 = trace_ANN_02[\"w_2_out\"]\n",
    "plt.figure(figsize=(8,25))\n",
    "nb_plots = params_ANN_02.shape[1]\n",
    "bins=15\n",
    "for i in range(nb_plots):\n",
    "    plt.subplot(nb_plots, 2, i*2+2) \n",
    "    plt.plot(range(params_ANN_02.shape[0]), params_ANN_02[:,i])\n",
    "    plt.subplot(nb_plots, 2, i*2+1)\n",
    "    plt.hist(params_ANN_02[:,i], bins=bins)\n",
    "    plt.ylabel(dfTrain.columns[i])"
   ]
  }
 ],
 "metadata": {
  "anaconda-cloud": {},
  "kernelspec": {
   "display_name": "Python [Root]",
   "language": "python",
   "name": "Python [Root]"
  },
  "language_info": {
   "codemirror_mode": {
    "name": "ipython",
    "version": 2
   },
   "file_extension": ".py",
   "mimetype": "text/x-python",
   "name": "python",
   "nbconvert_exporter": "python",
   "pygments_lexer": "ipython2",
   "version": "2.7.12"
  }
 },
 "nbformat": 4,
 "nbformat_minor": 0
}
